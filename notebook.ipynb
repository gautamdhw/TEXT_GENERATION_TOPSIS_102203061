{
 "cells": [
  {
   "cell_type": "code",
   "execution_count": 27,
   "metadata": {},
   "outputs": [],
   "source": [
    "import numpy as np\n",
    "import pandas as pd\n",
    "\n",
    "def topsis(data, weights, criteria):\n",
    "    # Step 1: Normalize the Decision Matrix\n",
    "    norm_matrix = data / np.sqrt((data ** 2).sum(axis=0))\n",
    "    \n",
    "    # Step 2: Multiply by Weights\n",
    "    weighted_matrix = norm_matrix * weights\n",
    "    \n",
    "    # Step 3: Determine Ideal & Negative-Ideal Solutions\n",
    "    ideal_best = np.where(criteria == 'max', weighted_matrix.max(axis=0), weighted_matrix.min(axis=0))\n",
    "    ideal_worst = np.where(criteria == 'max', weighted_matrix.min(axis=0), weighted_matrix.max(axis=0))\n",
    "    \n",
    "    # Step 4: Compute Separation Measures\n",
    "    distance_best = np.sqrt(((weighted_matrix - ideal_best) ** 2).sum(axis=1))\n",
    "    distance_worst = np.sqrt(((weighted_matrix - ideal_worst) ** 2).sum(axis=1))\n",
    "    \n",
    "    # Step 5: Compute TOPSIS Score\n",
    "    scores = distance_worst / (distance_best + distance_worst)\n",
    "    \n",
    "    return scores"
   ]
  },
  {
   "cell_type": "code",
   "execution_count": 29,
   "metadata": {},
   "outputs": [
    {
     "data": {
      "text/html": [
       "<div>\n",
       "<style scoped>\n",
       "    .dataframe tbody tr th:only-of-type {\n",
       "        vertical-align: middle;\n",
       "    }\n",
       "\n",
       "    .dataframe tbody tr th {\n",
       "        vertical-align: top;\n",
       "    }\n",
       "\n",
       "    .dataframe thead th {\n",
       "        text-align: right;\n",
       "    }\n",
       "</style>\n",
       "<table border=\"1\" class=\"dataframe\">\n",
       "  <thead>\n",
       "    <tr style=\"text-align: right;\">\n",
       "      <th></th>\n",
       "      <th>Model</th>\n",
       "      <th>Perplexity</th>\n",
       "      <th>BLEU</th>\n",
       "      <th>ROUGE</th>\n",
       "      <th>Training Time</th>\n",
       "    </tr>\n",
       "  </thead>\n",
       "  <tbody>\n",
       "    <tr>\n",
       "      <th>0</th>\n",
       "      <td>GPT-3</td>\n",
       "      <td>12.5</td>\n",
       "      <td>40.2</td>\n",
       "      <td>45.8</td>\n",
       "      <td>10</td>\n",
       "    </tr>\n",
       "    <tr>\n",
       "      <th>1</th>\n",
       "      <td>BERT-GPT</td>\n",
       "      <td>14.2</td>\n",
       "      <td>38.7</td>\n",
       "      <td>43.2</td>\n",
       "      <td>8</td>\n",
       "    </tr>\n",
       "    <tr>\n",
       "      <th>2</th>\n",
       "      <td>T5</td>\n",
       "      <td>11.8</td>\n",
       "      <td>42.3</td>\n",
       "      <td>47.1</td>\n",
       "      <td>12</td>\n",
       "    </tr>\n",
       "    <tr>\n",
       "      <th>3</th>\n",
       "      <td>GPT-Neo</td>\n",
       "      <td>13.1</td>\n",
       "      <td>39.5</td>\n",
       "      <td>44.7</td>\n",
       "      <td>9</td>\n",
       "    </tr>\n",
       "  </tbody>\n",
       "</table>\n",
       "</div>"
      ],
      "text/plain": [
       "      Model  Perplexity  BLEU  ROUGE  Training Time\n",
       "0     GPT-3        12.5  40.2   45.8             10\n",
       "1  BERT-GPT        14.2  38.7   43.2              8\n",
       "2        T5        11.8  42.3   47.1             12\n",
       "3   GPT-Neo        13.1  39.5   44.7              9"
      ]
     },
     "execution_count": 29,
     "metadata": {},
     "output_type": "execute_result"
    }
   ],
   "source": [
    "data = pd.DataFrame({\n",
    "    \"Model\": [\"GPT-3\", \"BERT-GPT\", \"T5\", \"GPT-Neo\"],\n",
    "    \"Perplexity\": [12.5, 14.2, 11.8, 13.1],  # Lower is better\n",
    "    \"BLEU\": [40.2, 38.7, 42.3, 39.5],  # Higher is better\n",
    "    \"ROUGE\": [45.8, 43.2, 47.1, 44.7],  # Higher is better\n",
    "    \"Training Time\": [10, 8, 12, 9]  # Lower is better\n",
    "})\n",
    "data.head()"
   ]
  },
  {
   "cell_type": "code",
   "execution_count": 31,
   "metadata": {},
   "outputs": [],
   "source": [
    "# Convert to numpy array (excluding Model names)\n",
    "data_values = data.iloc[:, 1:].values\n",
    "\n",
    "# Define weights (sum should be 1)\n",
    "weights = np.array([0.3, 0.3, 0.3, 0.1])\n",
    "\n",
    "# Define criteria: 'max' for benefit, 'min' for cost\n",
    "criteria = np.array(['min', 'max', 'max', 'min'])"
   ]
  },
  {
   "cell_type": "code",
   "execution_count": 33,
   "metadata": {},
   "outputs": [
    {
     "name": "stdout",
     "output_type": "stream",
     "text": [
      "      Model  Perplexity  BLEU  ROUGE  Training Time  TOPSIS Score\n",
      "2        T5        11.8  42.3   47.1             12      0.622977\n",
      "0     GPT-3        12.5  40.2   45.8             10      0.607802\n",
      "3   GPT-Neo        13.1  39.5   44.7              9      0.500639\n",
      "1  BERT-GPT        14.2  38.7   43.2              8      0.377023\n"
     ]
    }
   ],
   "source": [
    "# Compute TOPSIS scores\n",
    "topsis_scores = topsis(data_values, weights, criteria)\n",
    "\n",
    "# Add scores to DataFrame\n",
    "data[\"TOPSIS Score\"] = topsis_scores\n",
    "\n",
    "# Rank models based on scores\n",
    "data = data.sort_values(by=\"TOPSIS Score\", ascending=False)\n",
    "\n",
    "# Print final ranking\n",
    "print(data)"
   ]
  }
 ],
 "metadata": {
  "kernelspec": {
   "display_name": "Python 3 (ipykernel)",
   "language": "python",
   "name": "python3"
  },
  "language_info": {
   "codemirror_mode": {
    "name": "ipython",
    "version": 3
   },
   "file_extension": ".py",
   "mimetype": "text/x-python",
   "name": "python",
   "nbconvert_exporter": "python",
   "pygments_lexer": "ipython3",
   "version": "3.12.3"
  }
 },
 "nbformat": 4,
 "nbformat_minor": 4
}
